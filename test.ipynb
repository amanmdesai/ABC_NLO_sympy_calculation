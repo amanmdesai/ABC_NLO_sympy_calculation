{
 "cells": [
  {
   "cell_type": "code",
   "execution_count": 1,
   "id": "d02a4529",
   "metadata": {},
   "outputs": [],
   "source": [
    "from sympy import *"
   ]
  },
  {
   "cell_type": "code",
   "execution_count": 2,
   "id": "c503c633",
   "metadata": {},
   "outputs": [],
   "source": [
    "#declare symbols\n",
    "mA,mB,mC = symbols('m_A m_B m_C')#mass\n",
    "g = Symbol('g')# coupling\n",
    "GammaA = Symbol('\\Gamma_A')# decay widths\n",
    "GammaB = Symbol('\\Gamma_B')\n",
    "GammaC = Symbol('\\Gamma_C')\n",
    "\n",
    "# four momentum\n",
    "#p1,p2,p3,p4 = tensor_heads('p_1,p_2,p_3,p_4', [LorentzIndex])\n",
    "#k1,k2,k3,q = tensor_heads('k_1,k_2,k_3,q', [LorentzIndex])\n",
    "#i0,i1,i2,i3 = tensor_indices('i0:4', LorentzIndex)\n",
    "\n",
    "delZ,delm, dellamb = symbols('\\delta_Z,\\delta_m,\\delta_{\\lambda}')\n",
    "p1,p2,p3,p4 = symbols('p_1:5')\n",
    "k1,k2,k3,k4 = symbols('k_1:5')\n",
    "\n",
    "m = Symbol('m')#,is_commutative=True)\n",
    "q = Symbol('q')#,is_commutative=True)\n",
    "k = Symbol('k')#,is_commutative=True)\n",
    "l = Symbol('l')#,is_commutative=True)\n",
    "\n",
    "x,p = symbols('x p')\n",
    "A = Function('A')(p)\n",
    "B = Function('B')(p)\n",
    "\n",
    "L = Symbol('\\Lambda')\n",
    "delta = Symbol('\\Delta')"
   ]
  },
  {
   "cell_type": "code",
   "execution_count": 3,
   "id": "90068967",
   "metadata": {},
   "outputs": [],
   "source": [
    "def feynman_parameter(A,B):\n",
    "    \"\"\"\n",
    "    A: momentum in the loop\n",
    "    B: momentum in the loop 2\n",
    "    \"\"\"\n",
    "    A = A**2 - m**2\n",
    "    B = B**2 - m**2\n",
    "    integrand = 1/(A*(1-x) + x*B)**2\n",
    "    #result=integrate(integrand,(x,0,1))\n",
    "    return integrand"
   ]
  },
  {
   "cell_type": "code",
   "execution_count": 4,
   "id": "24bf5135",
   "metadata": {},
   "outputs": [
    {
     "data": {
      "text/latex": [
       "$\\displaystyle \\frac{1}{\\left(x \\left(- m^{2} + B^{2}{\\left(p \\right)}\\right) + \\left(1 - x\\right) \\left(- m^{2} + A^{2}{\\left(p \\right)}\\right)\\right)^{2}}$"
      ],
      "text/plain": [
       "(x*(-m**2 + B(p)**2) + (1 - x)*(-m**2 + A(p)**2))**(-2)"
      ]
     },
     "execution_count": 4,
     "metadata": {},
     "output_type": "execute_result"
    }
   ],
   "source": [
    "feynman_parameter(A,B)"
   ]
  },
  {
   "cell_type": "code",
   "execution_count": 5,
   "id": "1056698d",
   "metadata": {},
   "outputs": [],
   "source": [
    "# feynman rules\n",
    "class FeynRules:\n",
    "    def __init__():\n",
    "        pass\n",
    "    \n",
    "    def propagator(q,m):\n",
    "        prop = I/(q**2 - m**2)\n",
    "        return prop\n",
    "\n",
    "    def vertex():\n",
    "        return -I*g\n",
    "    \n",
    "    def external_line():\n",
    "        return 1\n",
    "    \n",
    "    def delta(k1, k2, k3):\n",
    "        delta = (2*pi)**4*DiracDelta(k1 + k2 + k3)\n",
    "        return delta\n",
    "    \n",
    "    def remove_factor():\n",
    "        return 1/((2*pi)**4*DiracDelta(0))\n",
    "    \n",
    "    def integral_factor():\n",
    "        return 1/((2*pi)**4)\n",
    "    \n",
    "    def counter_prop(q):\n",
    "        return I*(q**2 *delz - delm)\n",
    "    \n",
    "    def counter_four():\n",
    "        return -I*dellamb"
   ]
  },
  {
   "cell_type": "code",
   "execution_count": 6,
   "id": "f4832f5f",
   "metadata": {},
   "outputs": [
    {
     "data": {
      "text/latex": [
       "$\\displaystyle \\frac{g^{2}}{16 \\pi^{4} \\left(k - m\\right) \\left(k + m\\right) \\left(k - m + p\\right) \\left(k + m + p\\right)}$"
      ],
      "text/plain": [
       "g**2/(16*pi**4*(k - m)*(k + m)*(k - m + p)*(k + m + p))"
      ]
     },
     "execution_count": 6,
     "metadata": {},
     "output_type": "execute_result"
    }
   ],
   "source": [
    "fr = FeynRules\n",
    "ME_s = 1\n",
    "ME_s = (fr.external_line())**4\n",
    "ME_s = ME_s*(fr.vertex())**2\n",
    "ME_s = ME_s*(fr.propagator(k,m))\n",
    "ME_s = ME_s*(fr.propagator(q,m))\n",
    "ME_s = ME_s*(fr.delta(p1,p2,k-q))\n",
    "ME_s = ME_s*(fr.delta(-p3,-p4,-k+q))\n",
    "ME_s=ME_s.subs({p3: p-p4})\n",
    "ME_s=ME_s.subs({p1: p-p2})\n",
    "ME_s=integrate(ME_s,(q,-oo,oo))\n",
    "ME_s=ME_s*fr.integral_factor()\n",
    "ME_s=ME_s*fr.integral_factor()\n",
    "ME_s=ME_s*fr.remove_factor()\n",
    "ME_s.factor()"
   ]
  },
  {
   "cell_type": "code",
   "execution_count": 7,
   "id": "b43a5553",
   "metadata": {},
   "outputs": [
    {
     "data": {
      "text/latex": [
       "$\\displaystyle \\frac{g^{2} \\left(- \\Delta \\log{\\left(- \\Delta \\right)} + \\Delta \\log{\\left(- \\Delta + \\Lambda^{2} \\right)} + \\Lambda^{2} \\log{\\left(- \\Delta \\right)} - \\Lambda^{2} \\log{\\left(- \\Delta + \\Lambda^{2} \\right)} + \\Lambda^{2}\\right)}{2 \\left(\\Delta - \\Lambda^{2}\\right)}$"
      ],
      "text/plain": [
       "g**2*(-\\Delta*log(-\\Delta) + \\Delta*log(-\\Delta + \\Lambda**2) + \\Lambda**2*log(-\\Delta) - \\Lambda**2*log(-\\Delta + \\Lambda**2) + \\Lambda**2)/(2*(\\Delta - \\Lambda**2))"
      ]
     },
     "execution_count": 7,
     "metadata": {},
     "output_type": "execute_result"
    }
   ],
   "source": [
    "deno=feynman_parameter(k,k+p)\n",
    "deno=deno.subs({k:l-x*p})#.factor()\n",
    "result=ME_s.as_numer_denom()[0]*deno\n",
    "result=result.subs({-m**2: -delta - x*(1-x)*p**2}).simplify()\n",
    "result=integrate(result*l**3,(l,0,L)).simplify().factor()\n",
    "result"
   ]
  },
  {
   "cell_type": "code",
   "execution_count": 8,
   "id": "5659724c",
   "metadata": {},
   "outputs": [],
   "source": [
    "def matrixelement(v1,v2):\n",
    "    fr = FeynRules\n",
    "    ME = 1\n",
    "    ME = (fr.external_line())**4\n",
    "    ME = ME*(fr.vertex())**2\n",
    "    ME = ME*(fr.propagator(k,m))\n",
    "    ME = ME*(fr.propagator(q,m))\n",
    "    ME = ME*FeynRules.delta(v1[0],v1[1],v1[2])\n",
    "    ME = ME*FeynRules.delta(v2[0],v2[1],v2[2])\n",
    "    #ME=ME.subs({p3: p-p4})\n",
    "    #ME=ME.subs({p1: p-p2})\n",
    "    ME=integrate(ME,(q,-oo,oo))\n",
    "    ME=ME*fr.integral_factor()\n",
    "    ME=ME*fr.integral_factor()\n",
    "    ME=ME*fr.remove_factor()\n",
    "    ME=ME.factor()\n",
    "    return ME"
   ]
  },
  {
   "cell_type": "code",
   "execution_count": 9,
   "id": "eec0bfe9",
   "metadata": {},
   "outputs": [
    {
     "data": {
      "text/latex": [
       "$\\displaystyle \\frac{g^{2}}{16 \\pi^{4} \\left(k - m\\right) \\left(k + m\\right) \\left(k - m + p_{3} + p_{4}\\right) \\left(k + m + p_{3} + p_{4}\\right)}$"
      ],
      "text/plain": [
       "g**2/(16*pi**4*(k - m)*(k + m)*(k - m + p_3 + p_4)*(k + m + p_3 + p_4))"
      ]
     },
     "execution_count": 9,
     "metadata": {},
     "output_type": "execute_result"
    }
   ],
   "source": [
    "ME_s=matrixelement([p1,p2,k-q],[-p3,-p4,-k+q])\n",
    "#ME_s=ME_s.subs({p3: p-p4})\n",
    "ME_s=ME_s.subs({p1: p3+p4-p2})\n",
    "ME_s # p = p1 + p2"
   ]
  },
  {
   "cell_type": "code",
   "execution_count": 16,
   "id": "008eca45",
   "metadata": {},
   "outputs": [
    {
     "data": {
      "text/latex": [
       "$\\displaystyle - \\frac{g^{2} \\left(- \\Lambda^{2} \\log{\\left(- m^{2} - p^{2} x^{2} + p^{2} x \\right)} + \\Lambda^{2} \\log{\\left(\\Lambda^{2} - m^{2} - p^{2} x^{2} + p^{2} x \\right)} - \\Lambda^{2} + m^{2} \\log{\\left(- m^{2} - p^{2} x^{2} + p^{2} x \\right)} - m^{2} \\log{\\left(\\Lambda^{2} - m^{2} - p^{2} x^{2} + p^{2} x \\right)} + p^{2} x^{2} \\log{\\left(- m^{2} - p^{2} x^{2} + p^{2} x \\right)} - p^{2} x^{2} \\log{\\left(\\Lambda^{2} - m^{2} - p^{2} x^{2} + p^{2} x \\right)} - p^{2} x \\log{\\left(- m^{2} - p^{2} x^{2} + p^{2} x \\right)} + p^{2} x \\log{\\left(\\Lambda^{2} - m^{2} - p^{2} x^{2} + p^{2} x \\right)}\\right)}{2 \\left(- \\Lambda^{2} + m^{2} + p^{2} x^{2} - p^{2} x\\right)}$"
      ],
      "text/plain": [
       "-g**2*(-\\Lambda**2*log(-m**2 - p**2*x**2 + p**2*x) + \\Lambda**2*log(\\Lambda**2 - m**2 - p**2*x**2 + p**2*x) - \\Lambda**2 + m**2*log(-m**2 - p**2*x**2 + p**2*x) - m**2*log(\\Lambda**2 - m**2 - p**2*x**2 + p**2*x) + p**2*x**2*log(-m**2 - p**2*x**2 + p**2*x) - p**2*x**2*log(\\Lambda**2 - m**2 - p**2*x**2 + p**2*x) - p**2*x*log(-m**2 - p**2*x**2 + p**2*x) + p**2*x*log(\\Lambda**2 - m**2 - p**2*x**2 + p**2*x))/(2*(-\\Lambda**2 + m**2 + p**2*x**2 - p**2*x))"
      ]
     },
     "execution_count": 16,
     "metadata": {},
     "output_type": "execute_result"
    }
   ],
   "source": [
    "deno=feynman_parameter(k,k+p)\n",
    "deno=deno.subs({k:l-x*p})#.factor()\n",
    "result=ME_s.as_numer_denom()[0]*deno\n",
    "result=result.subs({-m**2: -delta - x*(1-x)*p**2}).simplify()\n",
    "result=integrate(result*l**3,(l,0,L)).simplify().factor()\n",
    "result_s = result\n",
    "result_t"
   ]
  },
  {
   "cell_type": "code",
   "execution_count": 14,
   "id": "10dc0c84",
   "metadata": {},
   "outputs": [
    {
     "data": {
      "text/latex": [
       "$\\displaystyle \\frac{g^{2}}{16 \\pi^{4} \\left(k - m\\right) \\left(k + m\\right) \\left(k - m + p_{2} - p_{4}\\right) \\left(k + m + p_{2} - p_{4}\\right)}$"
      ],
      "text/plain": [
       "g**2/(16*pi**4*(k - m)*(k + m)*(k - m + p_2 - p_4)*(k + m + p_2 - p_4))"
      ]
     },
     "execution_count": 14,
     "metadata": {},
     "output_type": "execute_result"
    }
   ],
   "source": [
    "ME_t=matrixelement([p1,-p3,-k+q],[p2,-p4,k-q])\n",
    "#ME_t=ME_t.subs({p3: p-p4})\n",
    "ME_t=ME_t.subs({p1: p3+p4-p2})\n",
    "ME_t"
   ]
  },
  {
   "cell_type": "code",
   "execution_count": 15,
   "id": "ead2abf2",
   "metadata": {},
   "outputs": [],
   "source": [
    "deno=feynman_parameter(k,k+p)\n",
    "deno=deno.subs({k:l-x*p})#.factor()\n",
    "result=ME_t.as_numer_denom()[0]*deno\n",
    "#result=result.subs({-m**2: -delta - x*(1-x)*p**2}).simplify()\n",
    "result=integrate(result*l**3,(l,0,L)).simplify().factor()\n",
    "result_t = result #p = p1 - p3\n",
    "result_t"
   ]
  },
  {
   "cell_type": "code",
   "execution_count": null,
   "id": "5e201aa3",
   "metadata": {},
   "outputs": [],
   "source": [
    "ME_t=matrixelement([p1,-p3,-k+q],[p2,-p4,k-q])\n",
    "#ME_t=ME_t.subs({p3: p-p4})\n",
    "ME_t=ME_t.subs({p1: p3+p4-p2})\n",
    "ME_t"
   ]
  }
 ],
 "metadata": {
  "kernelspec": {
   "display_name": "Python 3 (ipykernel)",
   "language": "python",
   "name": "python3"
  },
  "language_info": {
   "codemirror_mode": {
    "name": "ipython",
    "version": 3
   },
   "file_extension": ".py",
   "mimetype": "text/x-python",
   "name": "python",
   "nbconvert_exporter": "python",
   "pygments_lexer": "ipython3",
   "version": "3.10.12"
  }
 },
 "nbformat": 4,
 "nbformat_minor": 5
}
