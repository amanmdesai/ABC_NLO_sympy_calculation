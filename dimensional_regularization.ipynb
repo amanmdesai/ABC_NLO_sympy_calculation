{
 "cells": [
  {
   "cell_type": "code",
   "execution_count": 1,
   "id": "c2ee8226",
   "metadata": {},
   "outputs": [],
   "source": [
    "from sympy import Symbol,symbols\n",
    "from sympy import integrate,simplify\n",
    "from sympy import pi,oo"
   ]
  },
  {
   "cell_type": "code",
   "execution_count": 2,
   "id": "1b3e48a0",
   "metadata": {},
   "outputs": [
    {
     "data": {
      "text/latex": [
       "$\\displaystyle \\begin{cases} \\frac{2^{- d - 2} \\pi^{1 - d} \\Delta^{\\frac{d}{2} - 2} \\cdot \\left(2 - d\\right)}{\\sin{\\left(\\frac{\\pi d}{2} \\right)}} & \\text{for}\\: d < 4 \\\\\\left(\\frac{1}{2 \\pi}\\right)^{d} \\int\\limits_{0}^{\\infty} \\frac{l^{d - 1}}{\\left(\\Delta + l^{2}\\right)^{2}}\\, dl & \\text{otherwise} \\end{cases}$"
      ],
      "text/plain": [
       "Piecewise((2**(-d - 2)*pi**(1 - d)*\\Delta**(d/2 - 2)*(2 - d)/sin(pi*d/2), d < 4), ((1/(2*pi))**d*Integral(l**(d - 1)/(\\Delta + l**2)**2, (l, 0, oo)), True))"
      ]
     },
     "execution_count": 2,
     "metadata": {},
     "output_type": "execute_result"
    }
   ],
   "source": [
    "l, d, m = symbols('l d m',positive=True)\n",
    "delta = Symbol('\\Delta',positive=True)\n",
    "eps = Symbol('\\epsilon')\n",
    "integral = l**(d-1)/(l**2 + delta)**(2*m)\n",
    "integral = integral/(2*pi)**d\n",
    "integral = integrate(integral,(l,0,oo))\n",
    "simplify(integral)"
   ]
  },
  {
   "cell_type": "code",
   "execution_count": 4,
   "id": "b7e2d035",
   "metadata": {},
   "outputs": [
    {
     "name": "stdout",
     "output_type": "stream",
     "text": [
      "\\begin{cases} \\frac{2^{- d} \\pi^{- d} \\Delta \\Delta^{- 2 m} \\Delta^{\\frac{d}{2} - 1} \\Gamma\\left(\\frac{d}{2}\\right) \\Gamma\\left(- \\frac{d}{2} + 2 m\\right)}{2 \\Gamma\\left(2 m\\right)} & \\text{for}\\: - \\frac{d}{2} + 2 m > 0 \\\\\\int\\limits_{0}^{\\infty} l^{d - 1} \\left(2 \\pi\\right)^{- d} \\left(\\Delta + l^{2}\\right)^{- 2 m}\\, dl & \\text{otherwise} \\end{cases}\n"
     ]
    }
   ],
   "source": [
    "from sympy import *\n",
    "print(latex(integral))"
   ]
  },
  {
   "cell_type": "code",
   "execution_count": null,
   "id": "29a068b4",
   "metadata": {},
   "outputs": [],
   "source": []
  }
 ],
 "metadata": {
  "kernelspec": {
   "display_name": "Python 3 (ipykernel)",
   "language": "python",
   "name": "python3"
  },
  "language_info": {
   "codemirror_mode": {
    "name": "ipython",
    "version": 3
   },
   "file_extension": ".py",
   "mimetype": "text/x-python",
   "name": "python",
   "nbconvert_exporter": "python",
   "pygments_lexer": "ipython3",
   "version": "3.10.12"
  }
 },
 "nbformat": 4,
 "nbformat_minor": 5
}
