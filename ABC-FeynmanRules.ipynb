{
 "cells": [
  {
   "cell_type": "code",
   "execution_count": 7,
   "id": "96d2a1cf",
   "metadata": {},
   "outputs": [],
   "source": [
    "from sympy import Symbol, symbols\n",
    "from sympy import I, simplify,pi\n",
    "from sympy import DiracDelta"
   ]
  },
  {
   "cell_type": "code",
   "execution_count": 8,
   "id": "f554b7db",
   "metadata": {},
   "outputs": [],
   "source": [
    "mA,mB,mC = symbols('m_A m_B m_C')#mass\n",
    "g = Symbol('g')# coupling\n",
    "q = Symbol('q') # internal momentum\n",
    "p1,p2,p3,p4 = symbols('p_1:5') # external momentum"
   ]
  },
  {
   "cell_type": "code",
   "execution_count": 9,
   "id": "37b300a3",
   "metadata": {},
   "outputs": [],
   "source": [
    "# feynman rules\n",
    "class FeynRules:\n",
    "    def __init__():\n",
    "        pass\n",
    "    \n",
    "    def propagator(q,m):\n",
    "        prop = I/(q**2 - m**2)\n",
    "        return prop\n",
    "\n",
    "    def vertex():\n",
    "        return -I*g\n",
    "    \n",
    "    def external_line():\n",
    "        return 1\n",
    "    \n",
    "    def delta(k1, k2, k3):\n",
    "        delta = (2*pi)**4*DiracDelta(k1 + k2 + k3)\n",
    "        return delta\n",
    "    \n",
    "    def remove_factor():\n",
    "        return I/((2*pi)**4*DiracDelta(0))\n",
    "    \n",
    "    def integral_factor():\n",
    "        return 1/((2*pi)**4)\n",
    "    "
   ]
  },
  {
   "cell_type": "code",
   "execution_count": null,
   "id": "d68689bd",
   "metadata": {},
   "outputs": [],
   "source": []
  },
  {
   "cell_type": "code",
   "execution_count": null,
   "id": "ec793511",
   "metadata": {},
   "outputs": [],
   "source": []
  }
 ],
 "metadata": {
  "kernelspec": {
   "display_name": "Python 3 (ipykernel)",
   "language": "python",
   "name": "python3"
  },
  "language_info": {
   "codemirror_mode": {
    "name": "ipython",
    "version": 3
   },
   "file_extension": ".py",
   "mimetype": "text/x-python",
   "name": "python",
   "nbconvert_exporter": "python",
   "pygments_lexer": "ipython3",
   "version": "3.10.12"
  }
 },
 "nbformat": 4,
 "nbformat_minor": 5
}
