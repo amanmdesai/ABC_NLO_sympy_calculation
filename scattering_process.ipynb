{
 "cells": [
  {
   "cell_type": "code",
   "execution_count": 1,
   "id": "96d2a1cf",
   "metadata": {},
   "outputs": [],
   "source": [
    "from sympy import Symbol, symbols\n",
    "from sympy import I, simplify,pi\n",
    "from sympy import DiracDelta, integrate,oo,latex"
   ]
  },
  {
   "cell_type": "code",
   "execution_count": 2,
   "id": "f554b7db",
   "metadata": {},
   "outputs": [],
   "source": [
    "mA,mB,mC = symbols('m_A m_B m_C')#mass\n",
    "g = Symbol('g')# coupling\n",
    "q = Symbol('q') # internal momentum\n",
    "p1,p2,p3,p4 = symbols('p_1:5') # external momentum"
   ]
  },
  {
   "cell_type": "code",
   "execution_count": 3,
   "id": "37b300a3",
   "metadata": {},
   "outputs": [],
   "source": [
    "# feynman rules\n",
    "class FeynmanRules:\n",
    "    def __init__():\n",
    "        pass\n",
    "    \n",
    "    def propagator(q,m):\n",
    "        prop = I/(q**2 - m**2)\n",
    "        return prop\n",
    "\n",
    "    def vertex():\n",
    "        return -I*g\n",
    "    \n",
    "    def external_line():\n",
    "        return 1\n",
    "    \n",
    "    def delta(k1, k2, k3):\n",
    "        delta = (2*pi)**4*DiracDelta(k1 + k2 + k3)\n",
    "        return delta\n",
    "    \n",
    "    def remove_factor():\n",
    "        return I/((2*pi)**4*DiracDelta(0))\n",
    "    \n",
    "    def integral_factor():\n",
    "        return 1/((2*pi)**4)\n",
    "    "
   ]
  },
  {
   "cell_type": "code",
   "execution_count": 7,
   "id": "d68689bd",
   "metadata": {},
   "outputs": [
    {
     "data": {
      "text/latex": [
       "$\\displaystyle \\frac{g^{2}}{- m_{C}^{2} + \\left(p_{1} + p_{2}\\right)^{2}}$"
      ],
      "text/plain": [
       "g**2/(-m_C**2 + (p_1 + p_2)**2)"
      ]
     },
     "execution_count": 7,
     "metadata": {},
     "output_type": "execute_result"
    }
   ],
   "source": [
    "fr = FeynmanRules\n",
    "ME = fr.external_line()**4\n",
    "ME = ME * fr.vertex()**2\n",
    "ME = ME * fr.propagator(q,mC)\n",
    "ME = ME * fr.delta(p1,p2,-q)\n",
    "ME = ME * fr.delta(-p3,-p4,q)\n",
    "ME = integrate(ME, (q,-oo,oo)) * fr.integral_factor()\n",
    "ME = ME * fr.remove_factor()\n",
    "ME_s = ME.subs({p3: -p4 +p1 + p2})\n",
    "#print(latex(ME_s))\n",
    "ME_s"
   ]
  },
  {
   "cell_type": "code",
   "execution_count": 5,
   "id": "289c3f37",
   "metadata": {},
   "outputs": [
    {
     "name": "stdout",
     "output_type": "stream",
     "text": [
      "\\frac{g^{2}}{- m_{C}^{2} + \\left(- p_{2} + p_{4}\\right)^{2}}\n"
     ]
    },
    {
     "data": {
      "text/latex": [
       "$\\displaystyle \\frac{g^{2}}{- m_{C}^{2} + \\left(- p_{2} + p_{4}\\right)^{2}}$"
      ],
      "text/plain": [
       "g**2/(-m_C**2 + (-p_2 + p_4)**2)"
      ]
     },
     "execution_count": 5,
     "metadata": {},
     "output_type": "execute_result"
    }
   ],
   "source": [
    "fr = FeynmanRules\n",
    "ME = fr.external_line()**4\n",
    "ME = ME * fr.vertex()**2\n",
    "ME = ME * fr.propagator(q,mC)\n",
    "ME = ME * fr.delta(p1,-p3,-q)\n",
    "ME = ME * fr.delta(p2,-p4,q)\n",
    "ME = integrate(ME, (q,-oo,oo)) * fr.integral_factor()\n",
    "ME = ME * fr.remove_factor()\n",
    "ME_t = ME.subs({p3: -p4 +p1 + p2})\n",
    "print(latex(ME_t))\n",
    "ME_t"
   ]
  },
  {
   "cell_type": "code",
   "execution_count": 6,
   "id": "a67e857b",
   "metadata": {},
   "outputs": [
    {
     "name": "stdout",
     "output_type": "stream",
     "text": [
      "\\frac{\\left|{\\textbf{p}_f}\\right| \\left|{\\frac{g^{2}}{m_{C}^{2} - \\left(p_{2} - p_{4}\\right)^{2}} + \\frac{g^{2}}{m_{C}^{2} - \\left(p_{1} + p_{2}\\right)^{2}}}\\right|^{2}}{128 \\pi^{2} E_{cm} \\left|{\\textbf{p}_i}\\right|}\n"
     ]
    }
   ],
   "source": [
    "p_f = Symbol('\\\\textbf{p}_f')\n",
    "p_i = Symbol('\\\\textbf{p}_i')\n",
    "Ecm = Symbol('E_{cm}')\n",
    "diff_xsec =abs(p_f)*abs(1/p_i)\\\n",
    "*(1/(128*pi**2 *Ecm))*abs(ME_s + ME_t)**2\n",
    "print(latex(diff_xsec))#.expand()#.simplify()"
   ]
  },
  {
   "cell_type": "code",
   "execution_count": 10,
   "id": "a70681e8",
   "metadata": {},
   "outputs": [
    {
     "name": "stdout",
     "output_type": "stream",
     "text": [
      "\\frac{g^{2}}{- m_{C}^{2} + \\left(p_{1} - p_{4}\\right)^{2}}\n"
     ]
    }
   ],
   "source": [
    "fr = FeynmanRules\n",
    "ME = fr.external_line()**4\n",
    "ME = ME * fr.vertex()**2\n",
    "ME = ME * fr.propagator(q,mC)\n",
    "ME = ME * fr.delta(p1,-p4,-q)\n",
    "ME = ME * fr.delta(p2,-p3,q)\n",
    "ME = integrate(ME, (q,-oo,oo)) * fr.integral_factor()\n",
    "ME = ME * fr.remove_factor()\n",
    "ME_u = ME.subs({p3: -p4 +p1 + p2})\n",
    "print(latex(ME_u))"
   ]
  },
  {
   "cell_type": "code",
   "execution_count": null,
   "id": "d94f45c1-e2b0-454e-a80a-9cb0706ce00f",
   "metadata": {},
   "outputs": [],
   "source": []
  }
 ],
 "metadata": {
  "kernelspec": {
   "display_name": "Python 3 (ipykernel)",
   "language": "python",
   "name": "python3"
  },
  "language_info": {
   "codemirror_mode": {
    "name": "ipython",
    "version": 3
   },
   "file_extension": ".py",
   "mimetype": "text/x-python",
   "name": "python",
   "nbconvert_exporter": "python",
   "pygments_lexer": "ipython3",
   "version": "3.10.12"
  }
 },
 "nbformat": 4,
 "nbformat_minor": 5
}
