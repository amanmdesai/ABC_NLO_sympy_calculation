{
 "cells": [
  {
   "cell_type": "code",
   "execution_count": 7,
   "id": "96d2a1cf",
   "metadata": {},
   "outputs": [],
   "source": [
    "from sympy import Symbol, symbols\n",
    "from sympy import I, simplify,pi\n",
    "from sympy import DiracDelta\n",
    "from sympy import integrate,oo,latex,factor"
   ]
  },
  {
   "cell_type": "code",
   "execution_count": 8,
   "id": "f554b7db",
   "metadata": {},
   "outputs": [],
   "source": [
    "mA,mB,mC = symbols('m_A m_B m_C')#mass\n",
    "g = Symbol('g')# coupling\n",
    "q = Symbol('q') # internal momentum\n",
    "k1,k2,k3 = symbols('k_1:4')\n",
    "p1,p2,p3,p4 = symbols('p_1:5') # external momentum"
   ]
  },
  {
   "cell_type": "code",
   "execution_count": 9,
   "id": "37b300a3",
   "metadata": {},
   "outputs": [],
   "source": [
    "# feynman rules\n",
    "class FeynmanRules:\n",
    "    def __init__():\n",
    "        pass\n",
    "    \n",
    "    def propagator(q,m):\n",
    "        prop = I/(q**2 - m**2)\n",
    "        return prop\n",
    "\n",
    "    def vertex():\n",
    "        return -I*g\n",
    "    \n",
    "    def external_line():\n",
    "        return 1\n",
    "    \n",
    "    def delta(k1, k2, k3):\n",
    "        delta = (2*pi)**4*DiracDelta(k1 + k2 + k3)\n",
    "        return delta\n",
    "    \n",
    "    def remove_factor():\n",
    "        return I/((2*pi)**4*DiracDelta(0))\n",
    "    \n",
    "    def integral_factor():\n",
    "        return 1/((2*pi)**4)\n",
    "    "
   ]
  },
  {
   "cell_type": "code",
   "execution_count": 10,
   "id": "d68689bd",
   "metadata": {},
   "outputs": [],
   "source": [
    "fr = FeynmanRules\n",
    "ME = fr.external_line()**3 \n",
    "ME = ME*fr.vertex()*fr.delta(p1,-p2,-p3)\n",
    "ME = ME.subs({p1:p2+p3})*fr.remove_factor()"
   ]
  },
  {
   "cell_type": "code",
   "execution_count": 11,
   "id": "d7eec87c",
   "metadata": {},
   "outputs": [
    {
     "data": {
      "text/latex": [
       "$\\displaystyle g$"
      ],
      "text/plain": [
       "g"
      ]
     },
     "execution_count": 11,
     "metadata": {},
     "output_type": "execute_result"
    }
   ],
   "source": [
    "ME"
   ]
  },
  {
   "cell_type": "code",
   "execution_count": 12,
   "id": "a6421fa2",
   "metadata": {},
   "outputs": [
    {
     "data": {
      "text/plain": [
       "'\\\\frac{g^{3} \\\\delta\\\\left(- k_{1} + k_{2} + p_{1}\\\\right) \\\\delta\\\\left(k_{1} - k_{3} - p_{2}\\\\right) \\\\delta\\\\left(- k_{2} + k_{3} - p_{3}\\\\right)}{\\\\left(k_{1} - m_{C}\\\\right) \\\\left(k_{1} + m_{C}\\\\right) \\\\left(k_{2} - m_{B}\\\\right) \\\\left(k_{2} + m_{B}\\\\right) \\\\left(k_{3} - m_{A}\\\\right) \\\\left(k_{3} + m_{A}\\\\right)}'"
      ]
     },
     "execution_count": 12,
     "metadata": {},
     "output_type": "execute_result"
    }
   ],
   "source": [
    "fr = FeynmanRules\n",
    "ME = fr.external_line()**3 \n",
    "ME = ME*fr.vertex()**3\n",
    "ME = ME*fr.delta(p1,-k1,k2)\n",
    "ME = ME*fr.delta(k1,-p2,-k3)\n",
    "ME = ME*fr.delta(k3,-k2,-p3)\n",
    "ME = ME*fr.propagator(k1,mC) \n",
    "ME = ME*fr.propagator(k2,mB) \n",
    "ME = ME*fr.propagator(k3,mA) \n",
    "ME = ME*fr.integral_factor()**3\n",
    "latex(factor(ME))"
   ]
  },
  {
   "cell_type": "code",
   "execution_count": 13,
   "id": "83de7f01",
   "metadata": {},
   "outputs": [],
   "source": [
    "fr = FeynmanRules\n",
    "ME = fr.external_line()**3 \n",
    "ME = ME*fr.vertex()**3\n",
    "ME = ME*fr.delta(p1,-k1,k2)\n",
    "ME = ME*fr.delta(k1,-p2,-k3)\n",
    "ME = ME*fr.delta(k3,-k2,-p3)\n",
    "ME = ME*fr.propagator(k1,mC) \n",
    "ME = ME*fr.propagator(k2,mB) \n",
    "ME = ME*fr.propagator(k3,mA) \n",
    "ME = integrate(ME,(k1,-oo,oo))\n",
    "ME = ME * fr.integral_factor()\n",
    "ME = integrate(ME,(k2,-oo,oo))\n",
    "#ME = ME * fr.integral_factor()\n",
    "#ME = integrate(ME,(k3,-oo,oo))\n",
    "ME = ME.subs({p1:p2+p3})*fr.remove_factor()"
   ]
  },
  {
   "cell_type": "code",
   "execution_count": 16,
   "id": "0293605f",
   "metadata": {},
   "outputs": [],
   "source": [
    "ME = simplify(factor(ME))"
   ]
  },
  {
   "cell_type": "code",
   "execution_count": 17,
   "id": "99fe48bc",
   "metadata": {},
   "outputs": [
    {
     "data": {
      "text/plain": [
       "'- \\\\frac{16 i \\\\pi^{4} g^{3}}{\\\\left(k_{3} - m_{A}\\\\right) \\\\left(k_{3} + m_{A}\\\\right) \\\\left(- k_{3} + m_{B} + p_{3}\\\\right) \\\\left(k_{3} + m_{B} - p_{3}\\\\right) \\\\left(k_{3} - m_{C} + p_{2}\\\\right) \\\\left(k_{3} + m_{C} + p_{2}\\\\right)}'"
      ]
     },
     "execution_count": 17,
     "metadata": {},
     "output_type": "execute_result"
    }
   ],
   "source": [
    "latex(ME)"
   ]
  },
  {
   "cell_type": "code",
   "execution_count": null,
   "id": "3e47ac8c",
   "metadata": {},
   "outputs": [],
   "source": []
  }
 ],
 "metadata": {
  "kernelspec": {
   "display_name": "Python 3 (ipykernel)",
   "language": "python",
   "name": "python3"
  },
  "language_info": {
   "codemirror_mode": {
    "name": "ipython",
    "version": 3
   },
   "file_extension": ".py",
   "mimetype": "text/x-python",
   "name": "python",
   "nbconvert_exporter": "python",
   "pygments_lexer": "ipython3",
   "version": "3.10.12"
  }
 },
 "nbformat": 4,
 "nbformat_minor": 5
}
