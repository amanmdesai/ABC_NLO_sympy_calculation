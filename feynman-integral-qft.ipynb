{
 "cells": [
  {
   "cell_type": "code",
   "execution_count": 83,
   "id": "14356679",
   "metadata": {},
   "outputs": [],
   "source": [
    "from sympy import Symbol,symbols\n",
    "from sympy import simplify,expand,factor\n",
    "from sympy import integrate,latex\n",
    "q, p,x,l =symbols('q p x l')\n",
    "mA, mB = symbols('mA mB')\n",
    "lamb = Symbol('\\Lambda')\n",
    "delta = Symbol('\\Delta')\n",
    "\n",
    "def feynman_integral(A, B):\n",
    "    integrand = 1/(A*(1-x) + x*B)**2\n",
    "    return integrand\n",
    "\n",
    "integrand = feynman_integral(q**2 - mB**2, (q+p)**2 - mB**2)\n",
    "result=factor(expand(integrand).collect('q'))\n",
    "result=result.subs({q: l -x*p})\n",
    "result=result.expand().collect('l').factor()\n",
    "result=result.subs({mB**2 + (p*x)**2 - p**2 *x: delta})\n",
    "result = integrate(result, (l,0,lamb))"
   ]
  },
  {
   "cell_type": "code",
   "execution_count": 84,
   "id": "51d04f35",
   "metadata": {},
   "outputs": [
    {
     "name": "stdout",
     "output_type": "stream",
     "text": [
      "- \\frac{\\Lambda}{- 2 \\Delta^{2} + 2 \\Delta \\Lambda^{2}} + \\frac{\\sqrt{\\frac{1}{\\Delta^{3}}} \\log{\\left(- \\Delta^{2} \\sqrt{\\frac{1}{\\Delta^{3}}} \\right)}}{4} - \\frac{\\sqrt{\\frac{1}{\\Delta^{3}}} \\log{\\left(\\Delta^{2} \\sqrt{\\frac{1}{\\Delta^{3}}} \\right)}}{4} - \\frac{\\sqrt{\\frac{1}{\\Delta^{3}}} \\log{\\left(- \\Delta^{2} \\sqrt{\\frac{1}{\\Delta^{3}}} + \\Lambda \\right)}}{4} + \\frac{\\sqrt{\\frac{1}{\\Delta^{3}}} \\log{\\left(\\Delta^{2} \\sqrt{\\frac{1}{\\Delta^{3}}} + \\Lambda \\right)}}{4}\n"
     ]
    }
   ],
   "source": [
    "print(latex(result))"
   ]
  },
  {
   "cell_type": "code",
   "execution_count": 80,
   "id": "7e4f83bb",
   "metadata": {},
   "outputs": [
    {
     "data": {
      "text/latex": [
       "$\\displaystyle - \\frac{\\Lambda}{- 2 \\Delta^{2} + 2 \\Delta \\Lambda^{2}} + \\frac{\\sqrt{\\frac{1}{\\Delta^{3}}} \\log{\\left(- \\Delta^{2} \\sqrt{\\frac{1}{\\Delta^{3}}} \\right)}}{4} - \\frac{\\sqrt{\\frac{1}{\\Delta^{3}}} \\log{\\left(\\Delta^{2} \\sqrt{\\frac{1}{\\Delta^{3}}} \\right)}}{4} - \\frac{\\sqrt{\\frac{1}{\\Delta^{3}}} \\log{\\left(- \\Delta^{2} \\sqrt{\\frac{1}{\\Delta^{3}}} + \\Lambda \\right)}}{4} + \\frac{\\sqrt{\\frac{1}{\\Delta^{3}}} \\log{\\left(\\Delta^{2} \\sqrt{\\frac{1}{\\Delta^{3}}} + \\Lambda \\right)}}{4}$"
      ],
      "text/plain": [
       "-\\Lambda/(-2*\\Delta**2 + 2*\\Delta*\\Lambda**2) + sqrt(\\Delta**(-3))*log(-\\Delta**2*sqrt(\\Delta**(-3)))/4 - sqrt(\\Delta**(-3))*log(\\Delta**2*sqrt(\\Delta**(-3)))/4 - sqrt(\\Delta**(-3))*log(-\\Delta**2*sqrt(\\Delta**(-3)) + \\Lambda)/4 + sqrt(\\Delta**(-3))*log(\\Delta**2*sqrt(\\Delta**(-3)) + \\Lambda)/4"
      ]
     },
     "execution_count": 80,
     "metadata": {},
     "output_type": "execute_result"
    }
   ],
   "source": [
    "print(latex)"
   ]
  },
  {
   "cell_type": "code",
   "execution_count": null,
   "id": "00bc367e",
   "metadata": {},
   "outputs": [],
   "source": []
  },
  {
   "cell_type": "code",
   "execution_count": 19,
   "id": "2a1935a6",
   "metadata": {},
   "outputs": [
    {
     "data": {
      "text/latex": [
       "$\\displaystyle \\frac{1}{mB^{4} - 2 mB^{2} p^{2} x + p^{4} x^{2} + 4 p q^{3} x + q^{4} + q^{2} \\left(- 2 mB^{2} + 4 p^{2} x^{2} + 2 p^{2} x\\right) + q \\left(- 4 mB^{2} p x + 4 p^{3} x^{2}\\right)}$"
      ],
      "text/plain": [
       "1/(mB**4 - 2*mB**2*p**2*x + p**4*x**2 + 4*p*q**3*x + q**4 + q**2*(-2*mB**2 + 4*p**2*x**2 + 2*p**2*x) + q*(-4*mB**2*p*x + 4*p**3*x**2))"
      ]
     },
     "execution_count": 19,
     "metadata": {},
     "output_type": "execute_result"
    }
   ],
   "source": []
  },
  {
   "cell_type": "code",
   "execution_count": null,
   "id": "5fbc0cf2",
   "metadata": {},
   "outputs": [],
   "source": []
  }
 ],
 "metadata": {
  "kernelspec": {
   "display_name": "Python 3 (ipykernel)",
   "language": "python",
   "name": "python3"
  },
  "language_info": {
   "codemirror_mode": {
    "name": "ipython",
    "version": 3
   },
   "file_extension": ".py",
   "mimetype": "text/x-python",
   "name": "python",
   "nbconvert_exporter": "python",
   "pygments_lexer": "ipython3",
   "version": "3.10.12"
  }
 },
 "nbformat": 4,
 "nbformat_minor": 5
}
