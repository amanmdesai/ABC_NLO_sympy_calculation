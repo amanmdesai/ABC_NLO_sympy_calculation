{
 "cells": [
  {
   "cell_type": "code",
   "execution_count": 1,
   "id": "38c297c9-8870-406c-b3a0-1ffc803704a9",
   "metadata": {},
   "outputs": [],
   "source": [
    "from sympy import Symbol, symbols\n",
    "from sympy import I, simplify,pi\n",
    "from sympy import DiracDelta,latex\n",
    "from sympy import integrate,oo,factor"
   ]
  },
  {
   "cell_type": "code",
   "execution_count": 2,
   "id": "d037e604-cf9d-4322-8395-2cf398ace6e3",
   "metadata": {},
   "outputs": [],
   "source": [
    "mA,mB,mC = symbols('m_A m_B m_C')#mass\n",
    "g = Symbol('g')# coupling\n",
    "q = Symbol('q') # internal momentum\n",
    "k1,k2,k3,k4 = symbols('k_1:5') # external momentum\n",
    "p1,p2,p3,p4 = symbols('p_1:5') # external momentum"
   ]
  },
  {
   "cell_type": "code",
   "execution_count": 3,
   "id": "9852c828-6aae-4bf1-bc7e-513d134af250",
   "metadata": {},
   "outputs": [],
   "source": [
    "# feynman rules\n",
    "class FeynmanRules:\n",
    "    def __init__():\n",
    "        pass\n",
    "    \n",
    "    def propagator(q,m):\n",
    "        prop = I/(q**2 - m**2)\n",
    "        return prop\n",
    "\n",
    "    def vertex():\n",
    "        return -I*g\n",
    "    \n",
    "    def external_line():\n",
    "        return 1\n",
    "    \n",
    "    def delta(k1, k2, k3):\n",
    "        delta = (2*pi)**4*DiracDelta(k1 + k2 + k3)\n",
    "        return delta\n",
    "    \n",
    "    def remove_factor():\n",
    "        return I/((2*pi)**4*DiracDelta(0))\n",
    "    \n",
    "    def integral_factor():\n",
    "        return 1/((2*pi)**4)\n",
    "    "
   ]
  },
  {
   "cell_type": "code",
   "execution_count": 4,
   "id": "86deefa0-4a5a-4c44-822b-0a8fd1616db2",
   "metadata": {},
   "outputs": [
    {
     "data": {
      "text/plain": [
       "'\\\\frac{g^{4} \\\\delta\\\\left(- k_{1} - p_{4} + q\\\\right) \\\\delta\\\\left(k_{1} + k_{2} - k_{3}\\\\right) \\\\delta\\\\left(- k_{2} + k_{3} + p_{3}\\\\right) \\\\delta\\\\left(p_{1} + p_{2} - q\\\\right)}{\\\\left(k_{1}^{2} - m_{A}^{2}\\\\right) \\\\left(k_{2}^{2} - m_{B}^{2}\\\\right) \\\\left(k_{3}^{2} - m_{C}^{2}\\\\right) \\\\left(- m_{C}^{2} + q^{2}\\\\right)}'"
      ]
     },
     "execution_count": 4,
     "metadata": {},
     "output_type": "execute_result"
    }
   ],
   "source": [
    "fr = FeynmanRules\n",
    "ME = fr.external_line()**4\n",
    "ME = ME * fr.vertex()**4\n",
    "ME = ME * fr.propagator(q,mC)\n",
    "ME = ME * fr.propagator(k1,mA)\n",
    "ME = ME * fr.propagator(k2,mB)\n",
    "ME = ME * fr.propagator(k3,mC)\n",
    "ME = ME * fr.delta(p1,p2,-q)\n",
    "ME = ME * fr.delta(q,-k1,-p4)\n",
    "ME = ME * fr.delta(k1,k2,-k3)\n",
    "ME = ME * fr.delta(-k2,k3,p3)\n",
    "ME = ME *fr.integral_factor()**4\n",
    "latex(ME)"
   ]
  },
  {
   "cell_type": "code",
   "execution_count": 5,
   "id": "91675811-7088-4e17-bb23-9d78260e73ea",
   "metadata": {},
   "outputs": [
    {
     "data": {
      "text/latex": [
       "$\\displaystyle \\frac{g^{4} \\delta\\left(k_{1} + k_{2} - k_{3}\\right) \\delta\\left(- k_{2} + k_{3} + p_{3}\\right) \\delta\\left(- k_{1} + p_{1} + p_{2} - p_{4}\\right)}{- k_{1}^{2} k_{2}^{2} k_{3}^{2} m_{C}^{2} + k_{1}^{2} k_{2}^{2} k_{3}^{2} \\left(k_{1} + p_{4}\\right)^{2} + k_{1}^{2} k_{2}^{2} m_{C}^{4} - k_{1}^{2} k_{2}^{2} m_{C}^{2} \\left(k_{1} + p_{4}\\right)^{2} + k_{1}^{2} k_{3}^{2} m_{B}^{2} m_{C}^{2} - k_{1}^{2} k_{3}^{2} m_{B}^{2} \\left(k_{1} + p_{4}\\right)^{2} - k_{1}^{2} m_{B}^{2} m_{C}^{4} + k_{1}^{2} m_{B}^{2} m_{C}^{2} \\left(k_{1} + p_{4}\\right)^{2} + k_{2}^{2} k_{3}^{2} m_{A}^{2} m_{C}^{2} - k_{2}^{2} k_{3}^{2} m_{A}^{2} \\left(k_{1} + p_{4}\\right)^{2} - k_{2}^{2} m_{A}^{2} m_{C}^{4} + k_{2}^{2} m_{A}^{2} m_{C}^{2} \\left(k_{1} + p_{4}\\right)^{2} - k_{3}^{2} m_{A}^{2} m_{B}^{2} m_{C}^{2} + k_{3}^{2} m_{A}^{2} m_{B}^{2} \\left(k_{1} + p_{4}\\right)^{2} + m_{A}^{2} m_{B}^{2} m_{C}^{4} - m_{A}^{2} m_{B}^{2} m_{C}^{2} \\left(k_{1} + p_{4}\\right)^{2}}$"
      ],
      "text/plain": [
       "g**4*DiracDelta(k_1 + k_2 - k_3)*DiracDelta(-k_2 + k_3 + p_3)*DiracDelta(-k_1 + p_1 + p_2 - p_4)/(-k_1**2*k_2**2*k_3**2*m_C**2 + k_1**2*k_2**2*k_3**2*(k_1 + p_4)**2 + k_1**2*k_2**2*m_C**4 - k_1**2*k_2**2*m_C**2*(k_1 + p_4)**2 + k_1**2*k_3**2*m_B**2*m_C**2 - k_1**2*k_3**2*m_B**2*(k_1 + p_4)**2 - k_1**2*m_B**2*m_C**4 + k_1**2*m_B**2*m_C**2*(k_1 + p_4)**2 + k_2**2*k_3**2*m_A**2*m_C**2 - k_2**2*k_3**2*m_A**2*(k_1 + p_4)**2 - k_2**2*m_A**2*m_C**4 + k_2**2*m_A**2*m_C**2*(k_1 + p_4)**2 - k_3**2*m_A**2*m_B**2*m_C**2 + k_3**2*m_A**2*m_B**2*(k_1 + p_4)**2 + m_A**2*m_B**2*m_C**4 - m_A**2*m_B**2*m_C**2*(k_1 + p_4)**2)"
      ]
     },
     "execution_count": 5,
     "metadata": {},
     "output_type": "execute_result"
    }
   ],
   "source": [
    "ME = integrate(ME, (q,-oo,oo))\n",
    "ME"
   ]
  },
  {
   "cell_type": "code",
   "execution_count": 6,
   "id": "12dcd71a-0f08-457f-b51f-9f00eaa4c02f",
   "metadata": {},
   "outputs": [],
   "source": [
    "ME = integrate(ME, (k1,-oo,oo))"
   ]
  },
  {
   "cell_type": "code",
   "execution_count": 7,
   "id": "133a329c-d636-4b8e-9813-53d8a79f7f70",
   "metadata": {},
   "outputs": [
    {
     "data": {
      "text/latex": [
       "$\\displaystyle \\frac{g^{4} \\delta\\left(p_{1} + p_{2} + p_{3} - p_{4}\\right)}{3 k_{3}^{6} m_{B}^{2} + k_{3}^{6} \\left(k_{3} + p_{3}\\right)^{2} + 4 k_{3}^{5} m_{B}^{2} p_{3} + 4 k_{3}^{5} m_{B}^{2} p_{4} + 2 k_{3}^{5} p_{4} \\left(k_{3} + p_{3}\\right)^{2} - 4 k_{3}^{5} \\left(k_{3} + p_{3}\\right)^{3} - k_{3}^{4} m_{A}^{2} m_{B}^{2} - k_{3}^{4} m_{A}^{2} \\left(k_{3} + p_{3}\\right)^{2} - 4 k_{3}^{4} m_{B}^{2} m_{C}^{2} + 6 k_{3}^{4} m_{B}^{2} p_{3} p_{4} + k_{3}^{4} m_{B}^{2} p_{4}^{2} - 6 k_{3}^{4} m_{B}^{2} \\left(k_{3} + p_{3}\\right)^{2} - 2 k_{3}^{4} m_{C}^{2} \\left(k_{3} + p_{3}\\right)^{2} + k_{3}^{4} p_{4}^{2} \\left(k_{3} + p_{3}\\right)^{2} - 6 k_{3}^{4} p_{4} \\left(k_{3} + p_{3}\\right)^{3} + 6 k_{3}^{4} \\left(k_{3} + p_{3}\\right)^{4} - 2 k_{3}^{3} m_{A}^{2} m_{B}^{2} p_{3} - 2 k_{3}^{3} m_{A}^{2} p_{4} \\left(k_{3} + p_{3}\\right)^{2} + 2 k_{3}^{3} m_{A}^{2} \\left(k_{3} + p_{3}\\right)^{3} - 6 k_{3}^{3} m_{B}^{2} m_{C}^{2} p_{3} - 4 k_{3}^{3} m_{B}^{2} m_{C}^{2} p_{4} + 2 k_{3}^{3} m_{B}^{2} p_{3} p_{4}^{2} - 6 k_{3}^{3} m_{B}^{2} p_{4} \\left(k_{3} + p_{3}\\right)^{2} + 4 k_{3}^{3} m_{B}^{2} \\left(k_{3} + p_{3}\\right)^{3} - 2 k_{3}^{3} m_{C}^{2} p_{4} \\left(k_{3} + p_{3}\\right)^{2} + 6 k_{3}^{3} m_{C}^{2} \\left(k_{3} + p_{3}\\right)^{3} - 2 k_{3}^{3} p_{4}^{2} \\left(k_{3} + p_{3}\\right)^{3} + 6 k_{3}^{3} p_{4} \\left(k_{3} + p_{3}\\right)^{4} - 4 k_{3}^{3} \\left(k_{3} + p_{3}\\right)^{5} - 2 k_{3}^{2} m_{A}^{2} m_{B}^{2} p_{3} p_{4} + k_{3}^{2} m_{A}^{2} m_{B}^{2} p_{4}^{2} + k_{3}^{2} m_{A}^{2} m_{B}^{2} \\left(k_{3} + p_{3}\\right)^{2} + 2 k_{3}^{2} m_{A}^{2} m_{C}^{2} \\left(k_{3} + p_{3}\\right)^{2} - k_{3}^{2} m_{A}^{2} p_{4}^{2} \\left(k_{3} + p_{3}\\right)^{2} + 2 k_{3}^{2} m_{A}^{2} p_{4} \\left(k_{3} + p_{3}\\right)^{3} - k_{3}^{2} m_{A}^{2} \\left(k_{3} + p_{3}\\right)^{4} + k_{3}^{2} m_{B}^{2} m_{C}^{4} - 6 k_{3}^{2} m_{B}^{2} m_{C}^{2} p_{3} p_{4} - k_{3}^{2} m_{B}^{2} m_{C}^{2} p_{4}^{2} + 7 k_{3}^{2} m_{B}^{2} m_{C}^{2} \\left(k_{3} + p_{3}\\right)^{2} - k_{3}^{2} m_{B}^{2} p_{4}^{2} \\left(k_{3} + p_{3}\\right)^{2} + 2 k_{3}^{2} m_{B}^{2} p_{4} \\left(k_{3} + p_{3}\\right)^{3} - k_{3}^{2} m_{B}^{2} \\left(k_{3} + p_{3}\\right)^{4} + k_{3}^{2} m_{C}^{4} \\left(k_{3} + p_{3}\\right)^{2} - k_{3}^{2} m_{C}^{2} p_{4}^{2} \\left(k_{3} + p_{3}\\right)^{2} + 6 k_{3}^{2} m_{C}^{2} p_{4} \\left(k_{3} + p_{3}\\right)^{3} - 7 k_{3}^{2} m_{C}^{2} \\left(k_{3} + p_{3}\\right)^{4} + k_{3}^{2} p_{4}^{2} \\left(k_{3} + p_{3}\\right)^{4} - 2 k_{3}^{2} p_{4} \\left(k_{3} + p_{3}\\right)^{5} + k_{3}^{2} \\left(k_{3} + p_{3}\\right)^{6} + 2 k_{3} m_{A}^{2} m_{B}^{2} m_{C}^{2} p_{3} + 2 k_{3} m_{A}^{2} m_{C}^{2} p_{4} \\left(k_{3} + p_{3}\\right)^{2} - 2 k_{3} m_{A}^{2} m_{C}^{2} \\left(k_{3} + p_{3}\\right)^{3} + 2 k_{3} m_{B}^{2} m_{C}^{4} p_{3} - 2 k_{3} m_{B}^{2} m_{C}^{2} p_{3} p_{4}^{2} + 6 k_{3} m_{B}^{2} m_{C}^{2} p_{4} \\left(k_{3} + p_{3}\\right)^{2} - 4 k_{3} m_{B}^{2} m_{C}^{2} \\left(k_{3} + p_{3}\\right)^{3} - 2 k_{3} m_{C}^{4} \\left(k_{3} + p_{3}\\right)^{3} + 2 k_{3} m_{C}^{2} p_{4}^{2} \\left(k_{3} + p_{3}\\right)^{3} - 6 k_{3} m_{C}^{2} p_{4} \\left(k_{3} + p_{3}\\right)^{4} + 4 k_{3} m_{C}^{2} \\left(k_{3} + p_{3}\\right)^{5} + m_{A}^{2} m_{B}^{2} m_{C}^{4} + 2 m_{A}^{2} m_{B}^{2} m_{C}^{2} p_{3} p_{4} - m_{A}^{2} m_{B}^{2} m_{C}^{2} p_{4}^{2} - m_{A}^{2} m_{B}^{2} m_{C}^{2} \\left(k_{3} + p_{3}\\right)^{2} - m_{A}^{2} m_{C}^{4} \\left(k_{3} + p_{3}\\right)^{2} + m_{A}^{2} m_{C}^{2} p_{4}^{2} \\left(k_{3} + p_{3}\\right)^{2} - 2 m_{A}^{2} m_{C}^{2} p_{4} \\left(k_{3} + p_{3}\\right)^{3} + m_{A}^{2} m_{C}^{2} \\left(k_{3} + p_{3}\\right)^{4} - m_{B}^{2} m_{C}^{4} \\left(k_{3} + p_{3}\\right)^{2} + m_{B}^{2} m_{C}^{2} p_{4}^{2} \\left(k_{3} + p_{3}\\right)^{2} - 2 m_{B}^{2} m_{C}^{2} p_{4} \\left(k_{3} + p_{3}\\right)^{3} + m_{B}^{2} m_{C}^{2} \\left(k_{3} + p_{3}\\right)^{4} + m_{C}^{4} \\left(k_{3} + p_{3}\\right)^{4} - m_{C}^{2} p_{4}^{2} \\left(k_{3} + p_{3}\\right)^{4} + 2 m_{C}^{2} p_{4} \\left(k_{3} + p_{3}\\right)^{5} - m_{C}^{2} \\left(k_{3} + p_{3}\\right)^{6}}$"
      ],
      "text/plain": [
       "g**4*DiracDelta(p_1 + p_2 + p_3 - p_4)/(3*k_3**6*m_B**2 + k_3**6*(k_3 + p_3)**2 + 4*k_3**5*m_B**2*p_3 + 4*k_3**5*m_B**2*p_4 + 2*k_3**5*p_4*(k_3 + p_3)**2 - 4*k_3**5*(k_3 + p_3)**3 - k_3**4*m_A**2*m_B**2 - k_3**4*m_A**2*(k_3 + p_3)**2 - 4*k_3**4*m_B**2*m_C**2 + 6*k_3**4*m_B**2*p_3*p_4 + k_3**4*m_B**2*p_4**2 - 6*k_3**4*m_B**2*(k_3 + p_3)**2 - 2*k_3**4*m_C**2*(k_3 + p_3)**2 + k_3**4*p_4**2*(k_3 + p_3)**2 - 6*k_3**4*p_4*(k_3 + p_3)**3 + 6*k_3**4*(k_3 + p_3)**4 - 2*k_3**3*m_A**2*m_B**2*p_3 - 2*k_3**3*m_A**2*p_4*(k_3 + p_3)**2 + 2*k_3**3*m_A**2*(k_3 + p_3)**3 - 6*k_3**3*m_B**2*m_C**2*p_3 - 4*k_3**3*m_B**2*m_C**2*p_4 + 2*k_3**3*m_B**2*p_3*p_4**2 - 6*k_3**3*m_B**2*p_4*(k_3 + p_3)**2 + 4*k_3**3*m_B**2*(k_3 + p_3)**3 - 2*k_3**3*m_C**2*p_4*(k_3 + p_3)**2 + 6*k_3**3*m_C**2*(k_3 + p_3)**3 - 2*k_3**3*p_4**2*(k_3 + p_3)**3 + 6*k_3**3*p_4*(k_3 + p_3)**4 - 4*k_3**3*(k_3 + p_3)**5 - 2*k_3**2*m_A**2*m_B**2*p_3*p_4 + k_3**2*m_A**2*m_B**2*p_4**2 + k_3**2*m_A**2*m_B**2*(k_3 + p_3)**2 + 2*k_3**2*m_A**2*m_C**2*(k_3 + p_3)**2 - k_3**2*m_A**2*p_4**2*(k_3 + p_3)**2 + 2*k_3**2*m_A**2*p_4*(k_3 + p_3)**3 - k_3**2*m_A**2*(k_3 + p_3)**4 + k_3**2*m_B**2*m_C**4 - 6*k_3**2*m_B**2*m_C**2*p_3*p_4 - k_3**2*m_B**2*m_C**2*p_4**2 + 7*k_3**2*m_B**2*m_C**2*(k_3 + p_3)**2 - k_3**2*m_B**2*p_4**2*(k_3 + p_3)**2 + 2*k_3**2*m_B**2*p_4*(k_3 + p_3)**3 - k_3**2*m_B**2*(k_3 + p_3)**4 + k_3**2*m_C**4*(k_3 + p_3)**2 - k_3**2*m_C**2*p_4**2*(k_3 + p_3)**2 + 6*k_3**2*m_C**2*p_4*(k_3 + p_3)**3 - 7*k_3**2*m_C**2*(k_3 + p_3)**4 + k_3**2*p_4**2*(k_3 + p_3)**4 - 2*k_3**2*p_4*(k_3 + p_3)**5 + k_3**2*(k_3 + p_3)**6 + 2*k_3*m_A**2*m_B**2*m_C**2*p_3 + 2*k_3*m_A**2*m_C**2*p_4*(k_3 + p_3)**2 - 2*k_3*m_A**2*m_C**2*(k_3 + p_3)**3 + 2*k_3*m_B**2*m_C**4*p_3 - 2*k_3*m_B**2*m_C**2*p_3*p_4**2 + 6*k_3*m_B**2*m_C**2*p_4*(k_3 + p_3)**2 - 4*k_3*m_B**2*m_C**2*(k_3 + p_3)**3 - 2*k_3*m_C**4*(k_3 + p_3)**3 + 2*k_3*m_C**2*p_4**2*(k_3 + p_3)**3 - 6*k_3*m_C**2*p_4*(k_3 + p_3)**4 + 4*k_3*m_C**2*(k_3 + p_3)**5 + m_A**2*m_B**2*m_C**4 + 2*m_A**2*m_B**2*m_C**2*p_3*p_4 - m_A**2*m_B**2*m_C**2*p_4**2 - m_A**2*m_B**2*m_C**2*(k_3 + p_3)**2 - m_A**2*m_C**4*(k_3 + p_3)**2 + m_A**2*m_C**2*p_4**2*(k_3 + p_3)**2 - 2*m_A**2*m_C**2*p_4*(k_3 + p_3)**3 + m_A**2*m_C**2*(k_3 + p_3)**4 - m_B**2*m_C**4*(k_3 + p_3)**2 + m_B**2*m_C**2*p_4**2*(k_3 + p_3)**2 - 2*m_B**2*m_C**2*p_4*(k_3 + p_3)**3 + m_B**2*m_C**2*(k_3 + p_3)**4 + m_C**4*(k_3 + p_3)**4 - m_C**2*p_4**2*(k_3 + p_3)**4 + 2*m_C**2*p_4*(k_3 + p_3)**5 - m_C**2*(k_3 + p_3)**6)"
      ]
     },
     "execution_count": 7,
     "metadata": {},
     "output_type": "execute_result"
    }
   ],
   "source": [
    "ME = integrate(ME, (k2,-oo,oo))\n",
    "ME"
   ]
  },
  {
   "cell_type": "code",
   "execution_count": 8,
   "id": "7b3bee0f-0d7b-41a8-990f-b5d5ec24f5fe",
   "metadata": {},
   "outputs": [
    {
     "name": "stdout",
     "output_type": "stream",
     "text": [
      "\\frac{g^{4} \\delta\\left(p_{1} + p_{2} + p_{3} - p_{4}\\right)}{\\left(k_{3} - m_{C}\\right) \\left(k_{3} + m_{C}\\right) \\left(m_{A} - p_{3}\\right) \\left(m_{A} + p_{3}\\right) \\left(k_{3} - m_{B} + p_{3}\\right) \\left(k_{3} + m_{B} + p_{3}\\right) \\left(m_{C} - p_{3} + p_{4}\\right) \\left(m_{C} + p_{3} - p_{4}\\right)}\n"
     ]
    }
   ],
   "source": [
    "#ME = ME.subs({p3: -p4 +p1 + p2})\n",
    "print(latex(factor(ME)))"
   ]
  },
  {
   "cell_type": "code",
   "execution_count": null,
   "id": "349e3a60-6fd5-4b55-b7df-3e826b812915",
   "metadata": {},
   "outputs": [],
   "source": []
  },
  {
   "cell_type": "code",
   "execution_count": null,
   "id": "6902f5e4-9aa9-491e-8d8d-4ab2ed7f09fe",
   "metadata": {},
   "outputs": [],
   "source": []
  }
 ],
 "metadata": {
  "kernelspec": {
   "display_name": "Python 3 (ipykernel)",
   "language": "python",
   "name": "python3"
  },
  "language_info": {
   "codemirror_mode": {
    "name": "ipython",
    "version": 3
   },
   "file_extension": ".py",
   "mimetype": "text/x-python",
   "name": "python",
   "nbconvert_exporter": "python",
   "pygments_lexer": "ipython3",
   "version": "3.10.12"
  }
 },
 "nbformat": 4,
 "nbformat_minor": 5
}
