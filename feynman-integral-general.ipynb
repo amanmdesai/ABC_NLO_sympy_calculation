{
 "cells": [
  {
   "cell_type": "code",
   "execution_count": 25,
   "id": "4bda467d",
   "metadata": {},
   "outputs": [
    {
     "data": {
      "text/latex": [
       "$\\displaystyle \\frac{1}{A B}$"
      ],
      "text/plain": [
       "1/(A*B)"
      ]
     },
     "execution_count": 25,
     "metadata": {},
     "output_type": "execute_result"
    }
   ],
   "source": [
    "from sympy import symbols,simplify,integrate\n",
    "A, B, x = symbols('A B x')\n",
    "integrand = 1/(x*A + (1-x)*B)**2\n",
    "result=integrate(integrand,(x,0,1))\n",
    "simplify(result)"
   ]
  }
 ],
 "metadata": {
  "kernelspec": {
   "display_name": "Python 3 (ipykernel)",
   "language": "python",
   "name": "python3"
  },
  "language_info": {
   "codemirror_mode": {
    "name": "ipython",
    "version": 3
   },
   "file_extension": ".py",
   "mimetype": "text/x-python",
   "name": "python",
   "nbconvert_exporter": "python",
   "pygments_lexer": "ipython3",
   "version": "3.10.12"
  }
 },
 "nbformat": 4,
 "nbformat_minor": 5
}
