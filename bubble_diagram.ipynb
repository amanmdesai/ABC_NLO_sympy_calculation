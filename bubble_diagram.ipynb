{
 "cells": [
  {
   "cell_type": "code",
   "execution_count": 1,
   "id": "96d2a1cf",
   "metadata": {},
   "outputs": [],
   "source": [
    "from sympy import Symbol, symbols\n",
    "from sympy import I, simplify,pi\n",
    "from sympy import DiracDelta,latex\n",
    "from sympy import integrate,oo,factor"
   ]
  },
  {
   "cell_type": "code",
   "execution_count": 2,
   "id": "f554b7db",
   "metadata": {},
   "outputs": [],
   "source": [
    "mA,mB,mC = symbols('m_A m_B m_C')#mass\n",
    "g = Symbol('g')# coupling\n",
    "q = Symbol('q') # internal momentum\n",
    "k1,k2,k3,k4 = symbols('k_1:5') # external momentum\n",
    "p1,p2,p3,p4 = symbols('p_1:5') # external momentum"
   ]
  },
  {
   "cell_type": "code",
   "execution_count": 12,
   "id": "37b300a3",
   "metadata": {},
   "outputs": [],
   "source": [
    "# feynman rules\n",
    "class FeynmanRules:\n",
    "    def __init__():\n",
    "        pass\n",
    "    \n",
    "    def propagator(q,m):\n",
    "        prop = I/(q**2 - m**2)\n",
    "        return prop\n",
    "\n",
    "    def vertex():\n",
    "        return -I*g\n",
    "    \n",
    "    def external_line():\n",
    "        return 1\n",
    "    \n",
    "    def delta(k1, k2, k3):\n",
    "        delta = (2*pi)**4*DiracDelta(k1 + k2 + k3)\n",
    "        return delta\n",
    "    \n",
    "    def remove_factor():\n",
    "        return I/((2*pi)**4*DiracDelta(0))\n",
    "    \n",
    "    def integral_factor():\n",
    "        return 1/((2*pi)**4)\n",
    "    "
   ]
  },
  {
   "cell_type": "code",
   "execution_count": 13,
   "id": "d68689bd",
   "metadata": {},
   "outputs": [
    {
     "data": {
      "text/plain": [
       "'\\\\frac{g^{4} \\\\delta\\\\left(- k_{1} + p_{1} + p_{2}\\\\right) \\\\delta\\\\left(k_{1} - k_{2} + k_{3}\\\\right) \\\\delta\\\\left(k_{2} - k_{3} - k_{4}\\\\right) \\\\delta\\\\left(k_{4} - p_{3} - p_{4}\\\\right)}{\\\\left(k_{1}^{2} - m_{C}^{2}\\\\right) \\\\left(k_{2}^{2} - m_{A}^{2}\\\\right) \\\\left(k_{3}^{2} - m_{B}^{2}\\\\right) \\\\left(k_{4}^{2} - m_{C}^{2}\\\\right)}'"
      ]
     },
     "execution_count": 13,
     "metadata": {},
     "output_type": "execute_result"
    }
   ],
   "source": [
    "fr = FeynmanRules\n",
    "ME = fr.external_line()**4\n",
    "ME = ME * fr.vertex()**4\n",
    "ME = ME * fr.propagator(k1,mC)\n",
    "ME = ME * fr.propagator(k2,mA)\n",
    "ME = ME * fr.propagator(k3,mB)\n",
    "ME = ME * fr.propagator(k4,mC)\n",
    "ME = ME * fr.delta(p1,p2,-k1)\n",
    "ME = ME * fr.delta(k1,-k2,k3)\n",
    "ME = ME * fr.delta(k2,-k3,-k4)\n",
    "ME = ME * fr.delta(k4,-p3,-p4)\n",
    "ME = ME *fr.integral_factor()**4\n",
    "latex(ME)"
   ]
  },
  {
   "cell_type": "code",
   "execution_count": 14,
   "id": "a67e857b",
   "metadata": {},
   "outputs": [
    {
     "data": {
      "text/latex": [
       "$\\displaystyle \\frac{g^{4} \\delta\\left(k_{2} - k_{3} - k_{4}\\right) \\delta\\left(k_{4} - p_{3} - p_{4}\\right) \\delta\\left(- k_{2} + k_{3} + p_{1} + p_{2}\\right)}{- k_{2}^{2} k_{3}^{2} k_{4}^{2} m_{C}^{2} + k_{2}^{2} k_{3}^{2} k_{4}^{2} \\left(p_{1} + p_{2}\\right)^{2} + k_{2}^{2} k_{3}^{2} m_{C}^{4} - k_{2}^{2} k_{3}^{2} m_{C}^{2} \\left(p_{1} + p_{2}\\right)^{2} + k_{2}^{2} k_{4}^{2} m_{B}^{2} m_{C}^{2} - k_{2}^{2} k_{4}^{2} m_{B}^{2} \\left(p_{1} + p_{2}\\right)^{2} - k_{2}^{2} m_{B}^{2} m_{C}^{4} + k_{2}^{2} m_{B}^{2} m_{C}^{2} \\left(p_{1} + p_{2}\\right)^{2} + k_{3}^{2} k_{4}^{2} m_{A}^{2} m_{C}^{2} - k_{3}^{2} k_{4}^{2} m_{A}^{2} \\left(p_{1} + p_{2}\\right)^{2} - k_{3}^{2} m_{A}^{2} m_{C}^{4} + k_{3}^{2} m_{A}^{2} m_{C}^{2} \\left(p_{1} + p_{2}\\right)^{2} - k_{4}^{2} m_{A}^{2} m_{B}^{2} m_{C}^{2} + k_{4}^{2} m_{A}^{2} m_{B}^{2} \\left(p_{1} + p_{2}\\right)^{2} + m_{A}^{2} m_{B}^{2} m_{C}^{4} - m_{A}^{2} m_{B}^{2} m_{C}^{2} \\left(p_{1} + p_{2}\\right)^{2}}$"
      ],
      "text/plain": [
       "g**4*DiracDelta(k_2 - k_3 - k_4)*DiracDelta(k_4 - p_3 - p_4)*DiracDelta(-k_2 + k_3 + p_1 + p_2)/(-k_2**2*k_3**2*k_4**2*m_C**2 + k_2**2*k_3**2*k_4**2*(p_1 + p_2)**2 + k_2**2*k_3**2*m_C**4 - k_2**2*k_3**2*m_C**2*(p_1 + p_2)**2 + k_2**2*k_4**2*m_B**2*m_C**2 - k_2**2*k_4**2*m_B**2*(p_1 + p_2)**2 - k_2**2*m_B**2*m_C**4 + k_2**2*m_B**2*m_C**2*(p_1 + p_2)**2 + k_3**2*k_4**2*m_A**2*m_C**2 - k_3**2*k_4**2*m_A**2*(p_1 + p_2)**2 - k_3**2*m_A**2*m_C**4 + k_3**2*m_A**2*m_C**2*(p_1 + p_2)**2 - k_4**2*m_A**2*m_B**2*m_C**2 + k_4**2*m_A**2*m_B**2*(p_1 + p_2)**2 + m_A**2*m_B**2*m_C**4 - m_A**2*m_B**2*m_C**2*(p_1 + p_2)**2)"
      ]
     },
     "execution_count": 14,
     "metadata": {},
     "output_type": "execute_result"
    }
   ],
   "source": [
    "ME = integrate(ME, (k1,-oo,oo))\n",
    "ME"
   ]
  },
  {
   "cell_type": "code",
   "execution_count": 15,
   "id": "8ade1696",
   "metadata": {},
   "outputs": [],
   "source": [
    "ME = integrate(ME, (k2,-oo,oo))"
   ]
  },
  {
   "cell_type": "code",
   "execution_count": 16,
   "id": "2b5903f7",
   "metadata": {},
   "outputs": [
    {
     "data": {
      "text/latex": [
       "$\\displaystyle \\frac{g^{4} \\delta\\left(p_{1} + p_{2} - p_{3} - p_{4}\\right)}{k_{3}^{4} m_{C}^{4} - k_{3}^{4} m_{C}^{2} p_{1}^{2} - 2 k_{3}^{4} m_{C}^{2} p_{1} p_{2} - k_{3}^{4} m_{C}^{2} p_{2}^{2} - k_{3}^{4} m_{C}^{2} \\left(p_{1} + p_{2}\\right)^{2} + k_{3}^{4} p_{1}^{2} \\left(p_{1} + p_{2}\\right)^{2} + 2 k_{3}^{4} p_{1} p_{2} \\left(p_{1} + p_{2}\\right)^{2} + k_{3}^{4} p_{2}^{2} \\left(p_{1} + p_{2}\\right)^{2} + 2 k_{3}^{3} m_{C}^{4} p_{1} + 2 k_{3}^{3} m_{C}^{4} p_{2} - 2 k_{3}^{3} m_{C}^{2} p_{1}^{3} - 6 k_{3}^{3} m_{C}^{2} p_{1}^{2} p_{2} - 6 k_{3}^{3} m_{C}^{2} p_{1} p_{2}^{2} - 2 k_{3}^{3} m_{C}^{2} p_{2}^{3} - 2 k_{3}^{3} m_{C}^{2} \\left(p_{1} + p_{2}\\right)^{3} + 2 k_{3}^{3} p_{1}^{2} \\left(p_{1} + p_{2}\\right)^{3} + 4 k_{3}^{3} p_{1} p_{2} \\left(p_{1} + p_{2}\\right)^{3} + 2 k_{3}^{3} p_{2}^{2} \\left(p_{1} + p_{2}\\right)^{3} - k_{3}^{2} m_{A}^{2} m_{C}^{4} + k_{3}^{2} m_{A}^{2} m_{C}^{2} p_{1}^{2} + 2 k_{3}^{2} m_{A}^{2} m_{C}^{2} p_{1} p_{2} + k_{3}^{2} m_{A}^{2} m_{C}^{2} p_{2}^{2} + k_{3}^{2} m_{A}^{2} m_{C}^{2} \\left(p_{1} + p_{2}\\right)^{2} - k_{3}^{2} m_{A}^{2} p_{1}^{2} \\left(p_{1} + p_{2}\\right)^{2} - 2 k_{3}^{2} m_{A}^{2} p_{1} p_{2} \\left(p_{1} + p_{2}\\right)^{2} - k_{3}^{2} m_{A}^{2} p_{2}^{2} \\left(p_{1} + p_{2}\\right)^{2} - k_{3}^{2} m_{B}^{2} m_{C}^{4} + k_{3}^{2} m_{B}^{2} m_{C}^{2} p_{1}^{2} + 2 k_{3}^{2} m_{B}^{2} m_{C}^{2} p_{1} p_{2} + k_{3}^{2} m_{B}^{2} m_{C}^{2} p_{2}^{2} + k_{3}^{2} m_{B}^{2} m_{C}^{2} \\left(p_{1} + p_{2}\\right)^{2} - k_{3}^{2} m_{B}^{2} p_{1}^{2} \\left(p_{1} + p_{2}\\right)^{2} - 2 k_{3}^{2} m_{B}^{2} p_{1} p_{2} \\left(p_{1} + p_{2}\\right)^{2} - k_{3}^{2} m_{B}^{2} p_{2}^{2} \\left(p_{1} + p_{2}\\right)^{2} + k_{3}^{2} m_{C}^{4} \\left(p_{1} + p_{2}\\right)^{2} - k_{3}^{2} m_{C}^{2} p_{1}^{2} \\left(p_{1} + p_{2}\\right)^{2} - 2 k_{3}^{2} m_{C}^{2} p_{1} p_{2} \\left(p_{1} + p_{2}\\right)^{2} - k_{3}^{2} m_{C}^{2} p_{2}^{2} \\left(p_{1} + p_{2}\\right)^{2} - k_{3}^{2} m_{C}^{2} \\left(p_{1} + p_{2}\\right)^{4} + k_{3}^{2} p_{1}^{2} \\left(p_{1} + p_{2}\\right)^{4} + 2 k_{3}^{2} p_{1} p_{2} \\left(p_{1} + p_{2}\\right)^{4} + k_{3}^{2} p_{2}^{2} \\left(p_{1} + p_{2}\\right)^{4} - 2 k_{3} m_{B}^{2} m_{C}^{4} p_{1} - 2 k_{3} m_{B}^{2} m_{C}^{4} p_{2} + 2 k_{3} m_{B}^{2} m_{C}^{2} p_{1}^{3} + 6 k_{3} m_{B}^{2} m_{C}^{2} p_{1}^{2} p_{2} + 6 k_{3} m_{B}^{2} m_{C}^{2} p_{1} p_{2}^{2} + 2 k_{3} m_{B}^{2} m_{C}^{2} p_{2}^{3} + 2 k_{3} m_{B}^{2} m_{C}^{2} \\left(p_{1} + p_{2}\\right)^{3} - 2 k_{3} m_{B}^{2} p_{1}^{2} \\left(p_{1} + p_{2}\\right)^{3} - 4 k_{3} m_{B}^{2} p_{1} p_{2} \\left(p_{1} + p_{2}\\right)^{3} - 2 k_{3} m_{B}^{2} p_{2}^{2} \\left(p_{1} + p_{2}\\right)^{3} + m_{A}^{2} m_{B}^{2} m_{C}^{4} - m_{A}^{2} m_{B}^{2} m_{C}^{2} p_{1}^{2} - 2 m_{A}^{2} m_{B}^{2} m_{C}^{2} p_{1} p_{2} - m_{A}^{2} m_{B}^{2} m_{C}^{2} p_{2}^{2} - m_{A}^{2} m_{B}^{2} m_{C}^{2} \\left(p_{1} + p_{2}\\right)^{2} + m_{A}^{2} m_{B}^{2} p_{1}^{2} \\left(p_{1} + p_{2}\\right)^{2} + 2 m_{A}^{2} m_{B}^{2} p_{1} p_{2} \\left(p_{1} + p_{2}\\right)^{2} + m_{A}^{2} m_{B}^{2} p_{2}^{2} \\left(p_{1} + p_{2}\\right)^{2} - m_{B}^{2} m_{C}^{4} \\left(p_{1} + p_{2}\\right)^{2} + m_{B}^{2} m_{C}^{2} p_{1}^{2} \\left(p_{1} + p_{2}\\right)^{2} + 2 m_{B}^{2} m_{C}^{2} p_{1} p_{2} \\left(p_{1} + p_{2}\\right)^{2} + m_{B}^{2} m_{C}^{2} p_{2}^{2} \\left(p_{1} + p_{2}\\right)^{2} + m_{B}^{2} m_{C}^{2} \\left(p_{1} + p_{2}\\right)^{4} - m_{B}^{2} p_{1}^{2} \\left(p_{1} + p_{2}\\right)^{4} - 2 m_{B}^{2} p_{1} p_{2} \\left(p_{1} + p_{2}\\right)^{4} - m_{B}^{2} p_{2}^{2} \\left(p_{1} + p_{2}\\right)^{4}}$"
      ],
      "text/plain": [
       "g**4*DiracDelta(p_1 + p_2 - p_3 - p_4)/(k_3**4*m_C**4 - k_3**4*m_C**2*p_1**2 - 2*k_3**4*m_C**2*p_1*p_2 - k_3**4*m_C**2*p_2**2 - k_3**4*m_C**2*(p_1 + p_2)**2 + k_3**4*p_1**2*(p_1 + p_2)**2 + 2*k_3**4*p_1*p_2*(p_1 + p_2)**2 + k_3**4*p_2**2*(p_1 + p_2)**2 + 2*k_3**3*m_C**4*p_1 + 2*k_3**3*m_C**4*p_2 - 2*k_3**3*m_C**2*p_1**3 - 6*k_3**3*m_C**2*p_1**2*p_2 - 6*k_3**3*m_C**2*p_1*p_2**2 - 2*k_3**3*m_C**2*p_2**3 - 2*k_3**3*m_C**2*(p_1 + p_2)**3 + 2*k_3**3*p_1**2*(p_1 + p_2)**3 + 4*k_3**3*p_1*p_2*(p_1 + p_2)**3 + 2*k_3**3*p_2**2*(p_1 + p_2)**3 - k_3**2*m_A**2*m_C**4 + k_3**2*m_A**2*m_C**2*p_1**2 + 2*k_3**2*m_A**2*m_C**2*p_1*p_2 + k_3**2*m_A**2*m_C**2*p_2**2 + k_3**2*m_A**2*m_C**2*(p_1 + p_2)**2 - k_3**2*m_A**2*p_1**2*(p_1 + p_2)**2 - 2*k_3**2*m_A**2*p_1*p_2*(p_1 + p_2)**2 - k_3**2*m_A**2*p_2**2*(p_1 + p_2)**2 - k_3**2*m_B**2*m_C**4 + k_3**2*m_B**2*m_C**2*p_1**2 + 2*k_3**2*m_B**2*m_C**2*p_1*p_2 + k_3**2*m_B**2*m_C**2*p_2**2 + k_3**2*m_B**2*m_C**2*(p_1 + p_2)**2 - k_3**2*m_B**2*p_1**2*(p_1 + p_2)**2 - 2*k_3**2*m_B**2*p_1*p_2*(p_1 + p_2)**2 - k_3**2*m_B**2*p_2**2*(p_1 + p_2)**2 + k_3**2*m_C**4*(p_1 + p_2)**2 - k_3**2*m_C**2*p_1**2*(p_1 + p_2)**2 - 2*k_3**2*m_C**2*p_1*p_2*(p_1 + p_2)**2 - k_3**2*m_C**2*p_2**2*(p_1 + p_2)**2 - k_3**2*m_C**2*(p_1 + p_2)**4 + k_3**2*p_1**2*(p_1 + p_2)**4 + 2*k_3**2*p_1*p_2*(p_1 + p_2)**4 + k_3**2*p_2**2*(p_1 + p_2)**4 - 2*k_3*m_B**2*m_C**4*p_1 - 2*k_3*m_B**2*m_C**4*p_2 + 2*k_3*m_B**2*m_C**2*p_1**3 + 6*k_3*m_B**2*m_C**2*p_1**2*p_2 + 6*k_3*m_B**2*m_C**2*p_1*p_2**2 + 2*k_3*m_B**2*m_C**2*p_2**3 + 2*k_3*m_B**2*m_C**2*(p_1 + p_2)**3 - 2*k_3*m_B**2*p_1**2*(p_1 + p_2)**3 - 4*k_3*m_B**2*p_1*p_2*(p_1 + p_2)**3 - 2*k_3*m_B**2*p_2**2*(p_1 + p_2)**3 + m_A**2*m_B**2*m_C**4 - m_A**2*m_B**2*m_C**2*p_1**2 - 2*m_A**2*m_B**2*m_C**2*p_1*p_2 - m_A**2*m_B**2*m_C**2*p_2**2 - m_A**2*m_B**2*m_C**2*(p_1 + p_2)**2 + m_A**2*m_B**2*p_1**2*(p_1 + p_2)**2 + 2*m_A**2*m_B**2*p_1*p_2*(p_1 + p_2)**2 + m_A**2*m_B**2*p_2**2*(p_1 + p_2)**2 - m_B**2*m_C**4*(p_1 + p_2)**2 + m_B**2*m_C**2*p_1**2*(p_1 + p_2)**2 + 2*m_B**2*m_C**2*p_1*p_2*(p_1 + p_2)**2 + m_B**2*m_C**2*p_2**2*(p_1 + p_2)**2 + m_B**2*m_C**2*(p_1 + p_2)**4 - m_B**2*p_1**2*(p_1 + p_2)**4 - 2*m_B**2*p_1*p_2*(p_1 + p_2)**4 - m_B**2*p_2**2*(p_1 + p_2)**4)"
      ]
     },
     "execution_count": 16,
     "metadata": {},
     "output_type": "execute_result"
    }
   ],
   "source": [
    "ME = integrate(ME, (k4,-oo,oo))\n",
    "ME"
   ]
  },
  {
   "cell_type": "code",
   "execution_count": 17,
   "id": "04961526",
   "metadata": {},
   "outputs": [
    {
     "name": "stdout",
     "output_type": "stream",
     "text": [
      "\\frac{g^{4} \\delta\\left(p_{1} + p_{2} - p_{3} - p_{4}\\right)}{\\left(k_{3} - m_{B}\\right) \\left(k_{3} + m_{B}\\right) \\left(m_{C} - p_{1} - p_{2}\\right)^{2} \\left(m_{C} + p_{1} + p_{2}\\right)^{2} \\left(k_{3} - m_{A} + p_{1} + p_{2}\\right) \\left(k_{3} + m_{A} + p_{1} + p_{2}\\right)}\n"
     ]
    }
   ],
   "source": [
    "#ME = ME.subs({p3: -p4 +p1 + p2})\n",
    "print(latex(factor(ME)))"
   ]
  },
  {
   "cell_type": "code",
   "execution_count": null,
   "id": "a6dc9558",
   "metadata": {},
   "outputs": [],
   "source": []
  },
  {
   "cell_type": "code",
   "execution_count": null,
   "id": "0c1e6c57",
   "metadata": {},
   "outputs": [],
   "source": []
  }
 ],
 "metadata": {
  "kernelspec": {
   "display_name": "Python 3 (ipykernel)",
   "language": "python",
   "name": "python3"
  },
  "language_info": {
   "codemirror_mode": {
    "name": "ipython",
    "version": 3
   },
   "file_extension": ".py",
   "mimetype": "text/x-python",
   "name": "python",
   "nbconvert_exporter": "python",
   "pygments_lexer": "ipython3",
   "version": "3.10.12"
  }
 },
 "nbformat": 4,
 "nbformat_minor": 5
}
