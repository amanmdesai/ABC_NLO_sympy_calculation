{
 "cells": [
  {
   "cell_type": "code",
   "execution_count": 1,
   "id": "96af93d6",
   "metadata": {},
   "outputs": [],
   "source": [
    "# Klein Gordon Equation\n",
    "from sympy import latex\n",
    "from sympy import Symbol,Function\n",
    "from sympy import euler_equations"
   ]
  },
  {
   "cell_type": "code",
   "execution_count": 2,
   "id": "bc2e61e2",
   "metadata": {},
   "outputs": [],
   "source": [
    "t = Symbol('t')\n",
    "x = Symbol('x')\n",
    "y = Symbol('y')\n",
    "z = Symbol('z')\n",
    "m = Symbol('m_A')\n",
    "g = Symbol('g')\n",
    "phi = Function('\\\\phi_A')"
   ]
  },
  {
   "cell_type": "code",
   "execution_count": 5,
   "id": "848d0755",
   "metadata": {},
   "outputs": [
    {
     "name": "stdout",
     "output_type": "stream",
     "text": [
      "-0.5*m_A**2*\\phi_A(x, y, z, t)**2 + 0.5*Derivative(\\phi_A(x, y, z, t), t)**2 - 0.5*Derivative(\\phi_A(x, y, z, t), x)**2 - 0.5*Derivative(\\phi_A(x, y, z, t), y)**2 - 0.5*Derivative(\\phi_A(x, y, z, t), z)**2\n"
     ]
    }
   ],
   "source": [
    "L = (1/2)*(phi(x,y,z,t).diff(t)**2 - phi(x,y,z,t).diff(x)**2\n",
    "    - phi(x,y,z,t).diff(y)**2 - phi(x,y,z,t).diff(z)**2 - (m*phi(x,y,z,t))**2) \n",
    "print(L)"
   ]
  },
  {
   "cell_type": "code",
   "execution_count": 4,
   "id": "4e4248cb",
   "metadata": {},
   "outputs": [
    {
     "name": "stdout",
     "output_type": "stream",
     "text": [
      "Eq(-1.0*m_A**2*\\phi_A(x, y, z, t) - 1.0*Derivative(\\phi_A(x, y, z, t), (t, 2)) + 1.0*Derivative(\\phi_A(x, y, z, t), (x, 2)) + 1.0*Derivative(\\phi_A(x, y, z, t), (y, 2)) + 1.0*Derivative(\\phi_A(x, y, z, t), (z, 2)), 0)\n"
     ]
    },
    {
     "data": {
      "text/plain": [
       "'- 1.0 m_{A}^{2} \\\\phi_{A}{\\\\left(x,y,z,t \\\\right)} - 1.0 \\\\frac{\\\\partial^{2}}{\\\\partial t^{2}} \\\\phi_{A}{\\\\left(x,y,z,t \\\\right)} + 1.0 \\\\frac{\\\\partial^{2}}{\\\\partial x^{2}} \\\\phi_{A}{\\\\left(x,y,z,t \\\\right)} + 1.0 \\\\frac{\\\\partial^{2}}{\\\\partial y^{2}} \\\\phi_{A}{\\\\left(x,y,z,t \\\\right)} + 1.0 \\\\frac{\\\\partial^{2}}{\\\\partial z^{2}} \\\\phi_{A}{\\\\left(x,y,z,t \\\\right)} = 0'"
      ]
     },
     "execution_count": 4,
     "metadata": {},
     "output_type": "execute_result"
    }
   ],
   "source": [
    "result = euler_equations(L, phi(x,y,z,t), [x,y,z,t])\n",
    "print(result[0])\n",
    "latex(result[0])"
   ]
  },
  {
   "cell_type": "code",
   "execution_count": null,
   "id": "2d1a4b5d",
   "metadata": {},
   "outputs": [],
   "source": []
  },
  {
   "cell_type": "code",
   "execution_count": null,
   "id": "c4895261",
   "metadata": {},
   "outputs": [],
   "source": []
  }
 ],
 "metadata": {
  "kernelspec": {
   "display_name": "Python 3 (ipykernel)",
   "language": "python",
   "name": "python3"
  },
  "language_info": {
   "codemirror_mode": {
    "name": "ipython",
    "version": 3
   },
   "file_extension": ".py",
   "mimetype": "text/x-python",
   "name": "python",
   "nbconvert_exporter": "python",
   "pygments_lexer": "ipython3",
   "version": "3.10.12"
  }
 },
 "nbformat": 4,
 "nbformat_minor": 5
}
